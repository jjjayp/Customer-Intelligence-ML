{
 "cells": [
  {
   "cell_type": "code",
   "execution_count": 8,
   "id": "fe5429e2",
   "metadata": {},
   "outputs": [],
   "source": [
    "import numpy as np\n",
    "import pandas as pd\n",
    "from scipy.special import expit\n",
    "\n",
    "def simulate_free_delivery_subscription_extended(n_samples=5000, seed=42):\n",
    "    np.random.seed(seed)\n",
    "    age = np.random.randint(18, 70, size=n_samples)\n",
    "    purchase_freq = np.random.poisson(lam=2, size=n_samples)\n",
    "    avg_spend = np.round(np.random.gamma(shape=2.0, scale=50.0, size=n_samples), 2)\n",
    "    gender = np.random.binomial(1, p=0.5, size=n_samples)\n",
    "    regions = np.random.choice(['Urban', 'Suburban', 'Rural'], size=n_samples, p=[0.5, 0.3, 0.2])\n",
    "    treatment = np.random.binomial(1, 0.5, size=n_samples)\n",
    "\n",
    "    region_effect_map = {'Urban': 0.3, 'Suburban': 0.2, 'Rural': 0.0}\n",
    "    region_effect = np.array([region_effect_map[r] for r in regions])\n",
    "\n",
    "    log_odds_baseline = (-4.0 - 0.02 * age + 0.5 * purchase_freq + 0.01 * avg_spend + 0.1 * gender + region_effect)\n",
    "    treatment_effect = 1.0\n",
    "    log_odds = log_odds_baseline + treatment * treatment_effect\n",
    "    prob_subscription = expit(log_odds)\n",
    "    subscription = np.random.binomial(1, prob_subscription)\n",
    "\n",
    "    df = pd.DataFrame({\n",
    "        'age': age,\n",
    "        'purchase_freq': purchase_freq,\n",
    "        'avg_spend': avg_spend,\n",
    "        'gender': gender,\n",
    "        'region': regions,\n",
    "        'treatment': treatment,\n",
    "        'subscription': subscription\n",
    "    })\n",
    "    return df\n"
   ]
  },
  {
   "cell_type": "code",
   "execution_count": 9,
   "id": "55c477c0",
   "metadata": {},
   "outputs": [
    {
     "data": {
      "text/html": [
       "<div>\n",
       "<style scoped>\n",
       "    .dataframe tbody tr th:only-of-type {\n",
       "        vertical-align: middle;\n",
       "    }\n",
       "\n",
       "    .dataframe tbody tr th {\n",
       "        vertical-align: top;\n",
       "    }\n",
       "\n",
       "    .dataframe thead th {\n",
       "        text-align: right;\n",
       "    }\n",
       "</style>\n",
       "<table border=\"1\" class=\"dataframe\">\n",
       "  <thead>\n",
       "    <tr style=\"text-align: right;\">\n",
       "      <th></th>\n",
       "      <th>age</th>\n",
       "      <th>purchase_freq</th>\n",
       "      <th>avg_spend</th>\n",
       "      <th>gender</th>\n",
       "      <th>region</th>\n",
       "      <th>treatment</th>\n",
       "      <th>subscription</th>\n",
       "    </tr>\n",
       "  </thead>\n",
       "  <tbody>\n",
       "    <tr>\n",
       "      <th>0</th>\n",
       "      <td>56</td>\n",
       "      <td>3</td>\n",
       "      <td>48.02</td>\n",
       "      <td>1</td>\n",
       "      <td>Suburban</td>\n",
       "      <td>0</td>\n",
       "      <td>0</td>\n",
       "    </tr>\n",
       "    <tr>\n",
       "      <th>1</th>\n",
       "      <td>69</td>\n",
       "      <td>2</td>\n",
       "      <td>23.69</td>\n",
       "      <td>1</td>\n",
       "      <td>Rural</td>\n",
       "      <td>1</td>\n",
       "      <td>0</td>\n",
       "    </tr>\n",
       "    <tr>\n",
       "      <th>2</th>\n",
       "      <td>46</td>\n",
       "      <td>0</td>\n",
       "      <td>32.95</td>\n",
       "      <td>0</td>\n",
       "      <td>Urban</td>\n",
       "      <td>0</td>\n",
       "      <td>0</td>\n",
       "    </tr>\n",
       "    <tr>\n",
       "      <th>3</th>\n",
       "      <td>32</td>\n",
       "      <td>1</td>\n",
       "      <td>97.25</td>\n",
       "      <td>0</td>\n",
       "      <td>Suburban</td>\n",
       "      <td>1</td>\n",
       "      <td>0</td>\n",
       "    </tr>\n",
       "    <tr>\n",
       "      <th>4</th>\n",
       "      <td>60</td>\n",
       "      <td>3</td>\n",
       "      <td>53.49</td>\n",
       "      <td>0</td>\n",
       "      <td>Urban</td>\n",
       "      <td>0</td>\n",
       "      <td>0</td>\n",
       "    </tr>\n",
       "  </tbody>\n",
       "</table>\n",
       "</div>"
      ],
      "text/plain": [
       "   age  purchase_freq  avg_spend  gender    region  treatment  subscription\n",
       "0   56              3      48.02       1  Suburban          0             0\n",
       "1   69              2      23.69       1     Rural          1             0\n",
       "2   46              0      32.95       0     Urban          0             0\n",
       "3   32              1      97.25       0  Suburban          1             0\n",
       "4   60              3      53.49       0     Urban          0             0"
      ]
     },
     "execution_count": 9,
     "metadata": {},
     "output_type": "execute_result"
    }
   ],
   "source": [
    "df = simulate_free_delivery_subscription_extended()\n",
    "df.head()"
   ]
  },
  {
   "cell_type": "code",
   "execution_count": 10,
   "id": "cb698251",
   "metadata": {},
   "outputs": [
    {
     "name": "stdout",
     "output_type": "stream",
     "text": [
      "Index(['age', 'purchase_freq', 'avg_spend', 'gender', 'region_Suburban',\n",
      "       'region_Urban'],\n",
      "      dtype='object')\n"
     ]
    }
   ],
   "source": [
    "from sklearn.model_selection import train_test_split\n",
    "from sklearn.preprocessing import OneHotEncoder\n",
    "\n",
    "X = df.drop(columns=['subscription', 'treatment'])\n",
    "T = df['treatment']\n",
    "y = df['subscription']\n",
    "\n",
    "X_train, X_test, T_train, T_test, y_train, y_test = train_test_split(\n",
    "    X, T, y, test_size=0.2, random_state=42\n",
    ")\n",
    "\n",
    "encoder = OneHotEncoder(drop='first', sparse_output=False, handle_unknown='ignore')\n",
    "X_train_encoded = encoder.fit_transform(X_train[['region']])\n",
    "X_test_encoded = encoder.transform(X_test[['region']])\n",
    "\n",
    "encoded_cols = encoder.get_feature_names_out(['region'])\n",
    "X_train_encoded_df = pd.DataFrame(X_train_encoded, columns=encoded_cols, index=X_train.index)\n",
    "X_test_encoded_df = pd.DataFrame(X_test_encoded, columns=encoded_cols, index=X_test.index)\n",
    "\n",
    "X_train_final = pd.concat([X_train.drop(columns='region'), X_train_encoded_df], axis=1)\n",
    "X_test_final = pd.concat([X_test.drop(columns='region'), X_test_encoded_df], axis=1)\n",
    "\n",
    "print(X_train_final.columns)\n"
   ]
  },
  {
   "cell_type": "code",
   "execution_count": 11,
   "id": "619a1e0a",
   "metadata": {},
   "outputs": [],
   "source": [
    "from sklift.models import SoloModel, TwoModels\n",
    "from sklearn.ensemble import GradientBoostingClassifier\n",
    "from sklift.metrics import qini_curve, qini_auc_score\n",
    "import matplotlib.pyplot as plt\n",
    "import numpy as np"
   ]
  },
  {
   "cell_type": "code",
   "execution_count": null,
   "id": "62e83e61",
   "metadata": {},
   "outputs": [],
   "source": [
    "s_learner = SoloModel(\n",
    "    estimator=GradientBoostingClassifier(n_estimators=100, random_state=42),\n",
    "    method='treatment_interaction'\n",
    ")\n",
    "\n",
    "s_learner.fit(X_train_final, y_train, T_train)\n",
    "uplift_preds_s = s_learner.predict(X_test_final)"
   ]
  },
  {
   "cell_type": "code",
   "execution_count": null,
   "id": "19b2ceff",
   "metadata": {},
   "outputs": [],
   "source": [
    "qini_x_s, qini_y_s = qini_curve(y_test, uplift_preds_s, T_test)\n",
    "qini_auc_s = qini_auc_score(y_test, uplift_preds_s, T_test)\n",
    "\n",
    "plt.figure(figsize=(8, 6))\n",
    "plt.plot(qini_x_s, qini_y_s, label='S-Learner Qini Curve', linewidth=2)\n",
    "plt.plot(qini_x_s, np.linspace(0, qini_y_s[-1], len(qini_x_s)), 'r--', label='Random Targeting')\n",
    "plt.text(0.95, 0.05, f'Qini AUC = {qini_auc_s:.4f}', transform=plt.gca().transAxes,\n",
    "         fontsize=12, bbox=dict(facecolor='white', alpha=0.7), horizontalalignment='right')\n",
    "plt.xlabel(\"Proportion of Population\")\n",
    "plt.ylabel(\"Cumulative Incremental Outcome\")\n",
    "plt.title(\"Qini Curve - S-Learner\")\n",
    "plt.legend()\n",
    "plt.grid(True)\n",
    "plt.tight_layout()\n",
    "plt.show()\n"
   ]
  },
  {
   "cell_type": "code",
   "execution_count": null,
   "id": "339dba2d",
   "metadata": {},
   "outputs": [],
   "source": [
    "t_learner = TwoModels(\n",
    "    estimator_trmnt=GradientBoostingClassifier(n_estimators=100, random_state=42),\n",
    "    estimator_ctrl=GradientBoostingClassifier(n_estimators=100, random_state=42)\n",
    ")\n",
    "\n",
    "t_learner.fit(X_train_final, y_train, T_train)\n",
    "uplift_preds_t = t_learner.predict(X_test_final)"
   ]
  },
  {
   "cell_type": "code",
   "execution_count": null,
   "id": "8f04dfdf",
   "metadata": {},
   "outputs": [],
   "source": [
    "qini_x_t, qini_y_t = qini_curve(y_test, uplift_preds_t, T_test)\n",
    "qini_auc_t = qini_auc_score(y_test, uplift_preds_t, T_test)\n",
    "\n",
    "plt.figure(figsize=(8, 6))\n",
    "plt.plot(qini_x_t, qini_y_t, label='T-Learner Qini Curve', linewidth=2)\n",
    "plt.plot(qini_x_t, np.linspace(0, qini_y_t[-1], len(qini_x_t)), 'r--', label='Random Targeting')\n",
    "plt.text(0.95, 0.05, f'Qini AUC = {qini_auc_t:.4f}', transform=plt.gca().transAxes,\n",
    "         fontsize=12, bbox=dict(facecolor='white', alpha=0.7), horizontalalignment='right')\n",
    "plt.xlabel(\"Proportion of Population\")\n",
    "plt.ylabel(\"Cumulative Incremental Outcome\")\n",
    "plt.title(\"Qini Curve - T-Learner\")\n",
    "plt.legend()\n",
    "plt.grid(True)\n",
    "plt.tight_layout()\n",
    "plt.show()"
   ]
  },
  {
   "cell_type": "code",
   "execution_count": null,
   "id": "3d736f18",
   "metadata": {},
   "outputs": [],
   "source": [
    "print(f\"S-Learner Qini AUC: {qini_auc_s:.4f}\")\n",
    "print(f\"T-Learner Qini AUC: {qini_auc_t:.4f}\")"
   ]
  }
 ],
 "metadata": {
  "kernelspec": {
   "display_name": ".venv",
   "language": "python",
   "name": "python3"
  },
  "language_info": {
   "codemirror_mode": {
    "name": "ipython",
    "version": 3
   },
   "file_extension": ".py",
   "mimetype": "text/x-python",
   "name": "python",
   "nbconvert_exporter": "python",
   "pygments_lexer": "ipython3",
   "version": "3.11.9"
  }
 },
 "nbformat": 4,
 "nbformat_minor": 5
}
