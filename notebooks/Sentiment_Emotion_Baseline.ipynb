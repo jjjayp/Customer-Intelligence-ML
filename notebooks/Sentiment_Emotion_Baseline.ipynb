{
 "cells": [
  {
   "cell_type": "code",
   "execution_count": null,
   "id": "9df8444b",
   "metadata": {},
   "outputs": [
    {
     "name": "stderr",
     "output_type": "stream",
     "text": [
      "No model was supplied, defaulted to distilbert/distilbert-base-uncased-finetuned-sst-2-english and revision 714eb0f (https://huggingface.co/distilbert/distilbert-base-uncased-finetuned-sst-2-english).\n",
      "Using a pipeline without specifying a model name and revision in production is not recommended.\n",
      "Device set to use cpu\n"
     ]
    },
    {
     "name": "stdout",
     "output_type": "stream",
     "text": [
      "[{'label': 'POSITIVE', 'score': 0.9997825026512146}]\n",
      "[{'label': 'NEGATIVE', 'score': 0.9993081092834473}]\n",
      "[{'label': 'NEGATIVE', 'score': 0.8189636468887329}]\n",
      "[{'label': 'NEGATIVE', 'score': 0.9997424483299255}]\n",
      "[{'label': 'NEGATIVE', 'score': 0.9997720122337341}]\n",
      "[{'label': 'NEGATIVE', 'score': 0.9824435710906982}]\n"
     ]
    }
   ],
   "source": [
    "from transformers import pipeline\n",
    "\n",
    "sentiment_pipeline = pipeline(\"sentiment-analysis\")\n",
    "\n",
    "# Test examples\n",
    "print(sentiment_pipeline(\"This app is great and super helpful!\"))\n",
    "print(sentiment_pipeline(\"Your service is absolutely terrible.\"))\n",
    "print(sentiment_pipeline(\"It's okay, nothing special.\"))\n",
    "print(sentiment_pipeline(\"I'm not happy with this purchase.\"))\n",
    "print(sentiment_pipeline(\"The bulls suck and are a trash organization. The culture is dead.\"))\n",
    "print(sentiment_pipeline(\"The OKC are going to win if things go well, but unfortunately the Pacers have them in a straight jacket\"))\n",
    "print(sentiment_pipeline(\"The OKC are going to win if things go well, but the Pacers have them in a straight jacket\"))"
   ]
  }
 ],
 "metadata": {
  "kernelspec": {
   "display_name": ".venv",
   "language": "python",
   "name": "python3"
  },
  "language_info": {
   "codemirror_mode": {
    "name": "ipython",
    "version": 3
   },
   "file_extension": ".py",
   "mimetype": "text/x-python",
   "name": "python",
   "nbconvert_exporter": "python",
   "pygments_lexer": "ipython3",
   "version": "3.11.9"
  }
 },
 "nbformat": 4,
 "nbformat_minor": 5
}
